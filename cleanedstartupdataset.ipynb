{
  "nbformat": 4,
  "nbformat_minor": 0,
  "metadata": {
    "colab": {
      "provenance": [],
      "authorship_tag": "ABX9TyPqjP8BSAfxkTTjCPJZKcoV",
      "include_colab_link": true
    },
    "kernelspec": {
      "name": "python3",
      "display_name": "Python 3"
    },
    "language_info": {
      "name": "python"
    }
  },
  "cells": [
    {
      "cell_type": "markdown",
      "metadata": {
        "id": "view-in-github",
        "colab_type": "text"
      },
      "source": [
        "<a href=\"https://colab.research.google.com/github/MatDawit/AI4ALL/blob/jackie-ver/cleanedstartupdataset.ipynb\" target=\"_parent\"><img src=\"https://colab.research.google.com/assets/colab-badge.svg\" alt=\"Open In Colab\"/></a>"
      ]
    },
    {
      "cell_type": "markdown",
      "source": [
        "**Purpose of Cleaning This Dataset**\n",
        "\n",
        "This dataset will be used in a random forest algorithm machine learning model to predict whether or not a startup is still operating."
      ],
      "metadata": {
        "id": "A2OZeQnapDRl"
      }
    },
    {
      "cell_type": "code",
      "execution_count": null,
      "metadata": {
        "colab": {
          "base_uri": "https://localhost:8080/",
          "height": 421
        },
        "id": "kd-YiZNlT46S",
        "outputId": "124ae244-44f7-4232-d58a-0e063581ae27"
      },
      "outputs": [
        {
          "output_type": "display_data",
          "data": {
            "text/plain": [
              "<IPython.core.display.HTML object>"
            ],
            "text/html": [
              "\n",
              "     <input type=\"file\" id=\"files-ea3f6d7a-9b90-420c-be44-98d47038151d\" name=\"files[]\" multiple disabled\n",
              "        style=\"border:none\" />\n",
              "     <output id=\"result-ea3f6d7a-9b90-420c-be44-98d47038151d\">\n",
              "      Upload widget is only available when the cell has been executed in the\n",
              "      current browser session. Please rerun this cell to enable.\n",
              "      </output>\n",
              "      <script>// Copyright 2017 Google LLC\n",
              "//\n",
              "// Licensed under the Apache License, Version 2.0 (the \"License\");\n",
              "// you may not use this file except in compliance with the License.\n",
              "// You may obtain a copy of the License at\n",
              "//\n",
              "//      http://www.apache.org/licenses/LICENSE-2.0\n",
              "//\n",
              "// Unless required by applicable law or agreed to in writing, software\n",
              "// distributed under the License is distributed on an \"AS IS\" BASIS,\n",
              "// WITHOUT WARRANTIES OR CONDITIONS OF ANY KIND, either express or implied.\n",
              "// See the License for the specific language governing permissions and\n",
              "// limitations under the License.\n",
              "\n",
              "/**\n",
              " * @fileoverview Helpers for google.colab Python module.\n",
              " */\n",
              "(function(scope) {\n",
              "function span(text, styleAttributes = {}) {\n",
              "  const element = document.createElement('span');\n",
              "  element.textContent = text;\n",
              "  for (const key of Object.keys(styleAttributes)) {\n",
              "    element.style[key] = styleAttributes[key];\n",
              "  }\n",
              "  return element;\n",
              "}\n",
              "\n",
              "// Max number of bytes which will be uploaded at a time.\n",
              "const MAX_PAYLOAD_SIZE = 100 * 1024;\n",
              "\n",
              "function _uploadFiles(inputId, outputId) {\n",
              "  const steps = uploadFilesStep(inputId, outputId);\n",
              "  const outputElement = document.getElementById(outputId);\n",
              "  // Cache steps on the outputElement to make it available for the next call\n",
              "  // to uploadFilesContinue from Python.\n",
              "  outputElement.steps = steps;\n",
              "\n",
              "  return _uploadFilesContinue(outputId);\n",
              "}\n",
              "\n",
              "// This is roughly an async generator (not supported in the browser yet),\n",
              "// where there are multiple asynchronous steps and the Python side is going\n",
              "// to poll for completion of each step.\n",
              "// This uses a Promise to block the python side on completion of each step,\n",
              "// then passes the result of the previous step as the input to the next step.\n",
              "function _uploadFilesContinue(outputId) {\n",
              "  const outputElement = document.getElementById(outputId);\n",
              "  const steps = outputElement.steps;\n",
              "\n",
              "  const next = steps.next(outputElement.lastPromiseValue);\n",
              "  return Promise.resolve(next.value.promise).then((value) => {\n",
              "    // Cache the last promise value to make it available to the next\n",
              "    // step of the generator.\n",
              "    outputElement.lastPromiseValue = value;\n",
              "    return next.value.response;\n",
              "  });\n",
              "}\n",
              "\n",
              "/**\n",
              " * Generator function which is called between each async step of the upload\n",
              " * process.\n",
              " * @param {string} inputId Element ID of the input file picker element.\n",
              " * @param {string} outputId Element ID of the output display.\n",
              " * @return {!Iterable<!Object>} Iterable of next steps.\n",
              " */\n",
              "function* uploadFilesStep(inputId, outputId) {\n",
              "  const inputElement = document.getElementById(inputId);\n",
              "  inputElement.disabled = false;\n",
              "\n",
              "  const outputElement = document.getElementById(outputId);\n",
              "  outputElement.innerHTML = '';\n",
              "\n",
              "  const pickedPromise = new Promise((resolve) => {\n",
              "    inputElement.addEventListener('change', (e) => {\n",
              "      resolve(e.target.files);\n",
              "    });\n",
              "  });\n",
              "\n",
              "  const cancel = document.createElement('button');\n",
              "  inputElement.parentElement.appendChild(cancel);\n",
              "  cancel.textContent = 'Cancel upload';\n",
              "  const cancelPromise = new Promise((resolve) => {\n",
              "    cancel.onclick = () => {\n",
              "      resolve(null);\n",
              "    };\n",
              "  });\n",
              "\n",
              "  // Wait for the user to pick the files.\n",
              "  const files = yield {\n",
              "    promise: Promise.race([pickedPromise, cancelPromise]),\n",
              "    response: {\n",
              "      action: 'starting',\n",
              "    }\n",
              "  };\n",
              "\n",
              "  cancel.remove();\n",
              "\n",
              "  // Disable the input element since further picks are not allowed.\n",
              "  inputElement.disabled = true;\n",
              "\n",
              "  if (!files) {\n",
              "    return {\n",
              "      response: {\n",
              "        action: 'complete',\n",
              "      }\n",
              "    };\n",
              "  }\n",
              "\n",
              "  for (const file of files) {\n",
              "    const li = document.createElement('li');\n",
              "    li.append(span(file.name, {fontWeight: 'bold'}));\n",
              "    li.append(span(\n",
              "        `(${file.type || 'n/a'}) - ${file.size} bytes, ` +\n",
              "        `last modified: ${\n",
              "            file.lastModifiedDate ? file.lastModifiedDate.toLocaleDateString() :\n",
              "                                    'n/a'} - `));\n",
              "    const percent = span('0% done');\n",
              "    li.appendChild(percent);\n",
              "\n",
              "    outputElement.appendChild(li);\n",
              "\n",
              "    const fileDataPromise = new Promise((resolve) => {\n",
              "      const reader = new FileReader();\n",
              "      reader.onload = (e) => {\n",
              "        resolve(e.target.result);\n",
              "      };\n",
              "      reader.readAsArrayBuffer(file);\n",
              "    });\n",
              "    // Wait for the data to be ready.\n",
              "    let fileData = yield {\n",
              "      promise: fileDataPromise,\n",
              "      response: {\n",
              "        action: 'continue',\n",
              "      }\n",
              "    };\n",
              "\n",
              "    // Use a chunked sending to avoid message size limits. See b/62115660.\n",
              "    let position = 0;\n",
              "    do {\n",
              "      const length = Math.min(fileData.byteLength - position, MAX_PAYLOAD_SIZE);\n",
              "      const chunk = new Uint8Array(fileData, position, length);\n",
              "      position += length;\n",
              "\n",
              "      const base64 = btoa(String.fromCharCode.apply(null, chunk));\n",
              "      yield {\n",
              "        response: {\n",
              "          action: 'append',\n",
              "          file: file.name,\n",
              "          data: base64,\n",
              "        },\n",
              "      };\n",
              "\n",
              "      let percentDone = fileData.byteLength === 0 ?\n",
              "          100 :\n",
              "          Math.round((position / fileData.byteLength) * 100);\n",
              "      percent.textContent = `${percentDone}% done`;\n",
              "\n",
              "    } while (position < fileData.byteLength);\n",
              "  }\n",
              "\n",
              "  // All done.\n",
              "  yield {\n",
              "    response: {\n",
              "      action: 'complete',\n",
              "    }\n",
              "  };\n",
              "}\n",
              "\n",
              "scope.google = scope.google || {};\n",
              "scope.google.colab = scope.google.colab || {};\n",
              "scope.google.colab._files = {\n",
              "  _uploadFiles,\n",
              "  _uploadFilesContinue,\n",
              "};\n",
              "})(self);\n",
              "</script> "
            ]
          },
          "metadata": {}
        },
        {
          "output_type": "stream",
          "name": "stdout",
          "text": [
            "Saving big_startup_secsees_dataset.csv to big_startup_secsees_dataset (6).csv\n"
          ]
        },
        {
          "output_type": "execute_result",
          "data": {
            "text/plain": [
              "                             permalink                    name  \\\n",
              "0                  /organization/-fame                   #fame   \n",
              "1               /organization/-qounter                :Qounter   \n",
              "2  /organization/-the-one-of-them-inc-  (THE) ONE of THEM,Inc.   \n",
              "3                /organization/0-6-com                 0-6.com   \n",
              "4       /organization/004-technologies        004 Technologies   \n",
              "\n",
              "                        homepage_url  \\\n",
              "0                 http://livfame.com   \n",
              "1             http://www.qounter.com   \n",
              "2                http://oneofthem.jp   \n",
              "3                 http://www.0-6.com   \n",
              "4  http://004gmbh.de/en/004-interact   \n",
              "\n",
              "                                       category_list funding_total_usd  \\\n",
              "0                                              Media          10000000   \n",
              "1  Application Platforms|Real Time|Social Network...            700000   \n",
              "2                                  Apps|Games|Mobile           3406878   \n",
              "3                                        Curated Web           2000000   \n",
              "4                                           Software                 -   \n",
              "\n",
              "      status country_code state_code                 region           city  \\\n",
              "0  operating          IND         16                 Mumbai         Mumbai   \n",
              "1  operating          USA         DE             DE - Other  Delaware City   \n",
              "2  operating          NaN        NaN                    NaN            NaN   \n",
              "3  operating          CHN         22                Beijing        Beijing   \n",
              "4  operating          USA         IL  Springfield, Illinois      Champaign   \n",
              "\n",
              "   funding_rounds  founded_at first_funding_at last_funding_at  \n",
              "0               1         NaN       2015-01-05      2015-01-05  \n",
              "1               2  2014-09-04       2014-03-01      2014-10-14  \n",
              "2               1         NaN       2014-01-30      2014-01-30  \n",
              "3               1  2007-01-01       2008-03-19      2008-03-19  \n",
              "4               1  2010-01-01       2014-07-24      2014-07-24  "
            ],
            "text/html": [
              "\n",
              "  <div id=\"df-049cb0aa-9b2d-415d-a2ae-dab11aec7989\" class=\"colab-df-container\">\n",
              "    <div>\n",
              "<style scoped>\n",
              "    .dataframe tbody tr th:only-of-type {\n",
              "        vertical-align: middle;\n",
              "    }\n",
              "\n",
              "    .dataframe tbody tr th {\n",
              "        vertical-align: top;\n",
              "    }\n",
              "\n",
              "    .dataframe thead th {\n",
              "        text-align: right;\n",
              "    }\n",
              "</style>\n",
              "<table border=\"1\" class=\"dataframe\">\n",
              "  <thead>\n",
              "    <tr style=\"text-align: right;\">\n",
              "      <th></th>\n",
              "      <th>permalink</th>\n",
              "      <th>name</th>\n",
              "      <th>homepage_url</th>\n",
              "      <th>category_list</th>\n",
              "      <th>funding_total_usd</th>\n",
              "      <th>status</th>\n",
              "      <th>country_code</th>\n",
              "      <th>state_code</th>\n",
              "      <th>region</th>\n",
              "      <th>city</th>\n",
              "      <th>funding_rounds</th>\n",
              "      <th>founded_at</th>\n",
              "      <th>first_funding_at</th>\n",
              "      <th>last_funding_at</th>\n",
              "    </tr>\n",
              "  </thead>\n",
              "  <tbody>\n",
              "    <tr>\n",
              "      <th>0</th>\n",
              "      <td>/organization/-fame</td>\n",
              "      <td>#fame</td>\n",
              "      <td>http://livfame.com</td>\n",
              "      <td>Media</td>\n",
              "      <td>10000000</td>\n",
              "      <td>operating</td>\n",
              "      <td>IND</td>\n",
              "      <td>16</td>\n",
              "      <td>Mumbai</td>\n",
              "      <td>Mumbai</td>\n",
              "      <td>1</td>\n",
              "      <td>NaN</td>\n",
              "      <td>2015-01-05</td>\n",
              "      <td>2015-01-05</td>\n",
              "    </tr>\n",
              "    <tr>\n",
              "      <th>1</th>\n",
              "      <td>/organization/-qounter</td>\n",
              "      <td>:Qounter</td>\n",
              "      <td>http://www.qounter.com</td>\n",
              "      <td>Application Platforms|Real Time|Social Network...</td>\n",
              "      <td>700000</td>\n",
              "      <td>operating</td>\n",
              "      <td>USA</td>\n",
              "      <td>DE</td>\n",
              "      <td>DE - Other</td>\n",
              "      <td>Delaware City</td>\n",
              "      <td>2</td>\n",
              "      <td>2014-09-04</td>\n",
              "      <td>2014-03-01</td>\n",
              "      <td>2014-10-14</td>\n",
              "    </tr>\n",
              "    <tr>\n",
              "      <th>2</th>\n",
              "      <td>/organization/-the-one-of-them-inc-</td>\n",
              "      <td>(THE) ONE of THEM,Inc.</td>\n",
              "      <td>http://oneofthem.jp</td>\n",
              "      <td>Apps|Games|Mobile</td>\n",
              "      <td>3406878</td>\n",
              "      <td>operating</td>\n",
              "      <td>NaN</td>\n",
              "      <td>NaN</td>\n",
              "      <td>NaN</td>\n",
              "      <td>NaN</td>\n",
              "      <td>1</td>\n",
              "      <td>NaN</td>\n",
              "      <td>2014-01-30</td>\n",
              "      <td>2014-01-30</td>\n",
              "    </tr>\n",
              "    <tr>\n",
              "      <th>3</th>\n",
              "      <td>/organization/0-6-com</td>\n",
              "      <td>0-6.com</td>\n",
              "      <td>http://www.0-6.com</td>\n",
              "      <td>Curated Web</td>\n",
              "      <td>2000000</td>\n",
              "      <td>operating</td>\n",
              "      <td>CHN</td>\n",
              "      <td>22</td>\n",
              "      <td>Beijing</td>\n",
              "      <td>Beijing</td>\n",
              "      <td>1</td>\n",
              "      <td>2007-01-01</td>\n",
              "      <td>2008-03-19</td>\n",
              "      <td>2008-03-19</td>\n",
              "    </tr>\n",
              "    <tr>\n",
              "      <th>4</th>\n",
              "      <td>/organization/004-technologies</td>\n",
              "      <td>004 Technologies</td>\n",
              "      <td>http://004gmbh.de/en/004-interact</td>\n",
              "      <td>Software</td>\n",
              "      <td>-</td>\n",
              "      <td>operating</td>\n",
              "      <td>USA</td>\n",
              "      <td>IL</td>\n",
              "      <td>Springfield, Illinois</td>\n",
              "      <td>Champaign</td>\n",
              "      <td>1</td>\n",
              "      <td>2010-01-01</td>\n",
              "      <td>2014-07-24</td>\n",
              "      <td>2014-07-24</td>\n",
              "    </tr>\n",
              "  </tbody>\n",
              "</table>\n",
              "</div>\n",
              "    <div class=\"colab-df-buttons\">\n",
              "\n",
              "  <div class=\"colab-df-container\">\n",
              "    <button class=\"colab-df-convert\" onclick=\"convertToInteractive('df-049cb0aa-9b2d-415d-a2ae-dab11aec7989')\"\n",
              "            title=\"Convert this dataframe to an interactive table.\"\n",
              "            style=\"display:none;\">\n",
              "\n",
              "  <svg xmlns=\"http://www.w3.org/2000/svg\" height=\"24px\" viewBox=\"0 -960 960 960\">\n",
              "    <path d=\"M120-120v-720h720v720H120Zm60-500h600v-160H180v160Zm220 220h160v-160H400v160Zm0 220h160v-160H400v160ZM180-400h160v-160H180v160Zm440 0h160v-160H620v160ZM180-180h160v-160H180v160Zm440 0h160v-160H620v160Z\"/>\n",
              "  </svg>\n",
              "    </button>\n",
              "\n",
              "  <style>\n",
              "    .colab-df-container {\n",
              "      display:flex;\n",
              "      gap: 12px;\n",
              "    }\n",
              "\n",
              "    .colab-df-convert {\n",
              "      background-color: #E8F0FE;\n",
              "      border: none;\n",
              "      border-radius: 50%;\n",
              "      cursor: pointer;\n",
              "      display: none;\n",
              "      fill: #1967D2;\n",
              "      height: 32px;\n",
              "      padding: 0 0 0 0;\n",
              "      width: 32px;\n",
              "    }\n",
              "\n",
              "    .colab-df-convert:hover {\n",
              "      background-color: #E2EBFA;\n",
              "      box-shadow: 0px 1px 2px rgba(60, 64, 67, 0.3), 0px 1px 3px 1px rgba(60, 64, 67, 0.15);\n",
              "      fill: #174EA6;\n",
              "    }\n",
              "\n",
              "    .colab-df-buttons div {\n",
              "      margin-bottom: 4px;\n",
              "    }\n",
              "\n",
              "    [theme=dark] .colab-df-convert {\n",
              "      background-color: #3B4455;\n",
              "      fill: #D2E3FC;\n",
              "    }\n",
              "\n",
              "    [theme=dark] .colab-df-convert:hover {\n",
              "      background-color: #434B5C;\n",
              "      box-shadow: 0px 1px 3px 1px rgba(0, 0, 0, 0.15);\n",
              "      filter: drop-shadow(0px 1px 2px rgba(0, 0, 0, 0.3));\n",
              "      fill: #FFFFFF;\n",
              "    }\n",
              "  </style>\n",
              "\n",
              "    <script>\n",
              "      const buttonEl =\n",
              "        document.querySelector('#df-049cb0aa-9b2d-415d-a2ae-dab11aec7989 button.colab-df-convert');\n",
              "      buttonEl.style.display =\n",
              "        google.colab.kernel.accessAllowed ? 'block' : 'none';\n",
              "\n",
              "      async function convertToInteractive(key) {\n",
              "        const element = document.querySelector('#df-049cb0aa-9b2d-415d-a2ae-dab11aec7989');\n",
              "        const dataTable =\n",
              "          await google.colab.kernel.invokeFunction('convertToInteractive',\n",
              "                                                    [key], {});\n",
              "        if (!dataTable) return;\n",
              "\n",
              "        const docLinkHtml = 'Like what you see? Visit the ' +\n",
              "          '<a target=\"_blank\" href=https://colab.research.google.com/notebooks/data_table.ipynb>data table notebook</a>'\n",
              "          + ' to learn more about interactive tables.';\n",
              "        element.innerHTML = '';\n",
              "        dataTable['output_type'] = 'display_data';\n",
              "        await google.colab.output.renderOutput(dataTable, element);\n",
              "        const docLink = document.createElement('div');\n",
              "        docLink.innerHTML = docLinkHtml;\n",
              "        element.appendChild(docLink);\n",
              "      }\n",
              "    </script>\n",
              "  </div>\n",
              "\n",
              "\n",
              "    <div id=\"df-43af4488-fac7-4ea8-bad2-dd966380c42d\">\n",
              "      <button class=\"colab-df-quickchart\" onclick=\"quickchart('df-43af4488-fac7-4ea8-bad2-dd966380c42d')\"\n",
              "                title=\"Suggest charts\"\n",
              "                style=\"display:none;\">\n",
              "\n",
              "<svg xmlns=\"http://www.w3.org/2000/svg\" height=\"24px\"viewBox=\"0 0 24 24\"\n",
              "     width=\"24px\">\n",
              "    <g>\n",
              "        <path d=\"M19 3H5c-1.1 0-2 .9-2 2v14c0 1.1.9 2 2 2h14c1.1 0 2-.9 2-2V5c0-1.1-.9-2-2-2zM9 17H7v-7h2v7zm4 0h-2V7h2v10zm4 0h-2v-4h2v4z\"/>\n",
              "    </g>\n",
              "</svg>\n",
              "      </button>\n",
              "\n",
              "<style>\n",
              "  .colab-df-quickchart {\n",
              "      --bg-color: #E8F0FE;\n",
              "      --fill-color: #1967D2;\n",
              "      --hover-bg-color: #E2EBFA;\n",
              "      --hover-fill-color: #174EA6;\n",
              "      --disabled-fill-color: #AAA;\n",
              "      --disabled-bg-color: #DDD;\n",
              "  }\n",
              "\n",
              "  [theme=dark] .colab-df-quickchart {\n",
              "      --bg-color: #3B4455;\n",
              "      --fill-color: #D2E3FC;\n",
              "      --hover-bg-color: #434B5C;\n",
              "      --hover-fill-color: #FFFFFF;\n",
              "      --disabled-bg-color: #3B4455;\n",
              "      --disabled-fill-color: #666;\n",
              "  }\n",
              "\n",
              "  .colab-df-quickchart {\n",
              "    background-color: var(--bg-color);\n",
              "    border: none;\n",
              "    border-radius: 50%;\n",
              "    cursor: pointer;\n",
              "    display: none;\n",
              "    fill: var(--fill-color);\n",
              "    height: 32px;\n",
              "    padding: 0;\n",
              "    width: 32px;\n",
              "  }\n",
              "\n",
              "  .colab-df-quickchart:hover {\n",
              "    background-color: var(--hover-bg-color);\n",
              "    box-shadow: 0 1px 2px rgba(60, 64, 67, 0.3), 0 1px 3px 1px rgba(60, 64, 67, 0.15);\n",
              "    fill: var(--button-hover-fill-color);\n",
              "  }\n",
              "\n",
              "  .colab-df-quickchart-complete:disabled,\n",
              "  .colab-df-quickchart-complete:disabled:hover {\n",
              "    background-color: var(--disabled-bg-color);\n",
              "    fill: var(--disabled-fill-color);\n",
              "    box-shadow: none;\n",
              "  }\n",
              "\n",
              "  .colab-df-spinner {\n",
              "    border: 2px solid var(--fill-color);\n",
              "    border-color: transparent;\n",
              "    border-bottom-color: var(--fill-color);\n",
              "    animation:\n",
              "      spin 1s steps(1) infinite;\n",
              "  }\n",
              "\n",
              "  @keyframes spin {\n",
              "    0% {\n",
              "      border-color: transparent;\n",
              "      border-bottom-color: var(--fill-color);\n",
              "      border-left-color: var(--fill-color);\n",
              "    }\n",
              "    20% {\n",
              "      border-color: transparent;\n",
              "      border-left-color: var(--fill-color);\n",
              "      border-top-color: var(--fill-color);\n",
              "    }\n",
              "    30% {\n",
              "      border-color: transparent;\n",
              "      border-left-color: var(--fill-color);\n",
              "      border-top-color: var(--fill-color);\n",
              "      border-right-color: var(--fill-color);\n",
              "    }\n",
              "    40% {\n",
              "      border-color: transparent;\n",
              "      border-right-color: var(--fill-color);\n",
              "      border-top-color: var(--fill-color);\n",
              "    }\n",
              "    60% {\n",
              "      border-color: transparent;\n",
              "      border-right-color: var(--fill-color);\n",
              "    }\n",
              "    80% {\n",
              "      border-color: transparent;\n",
              "      border-right-color: var(--fill-color);\n",
              "      border-bottom-color: var(--fill-color);\n",
              "    }\n",
              "    90% {\n",
              "      border-color: transparent;\n",
              "      border-bottom-color: var(--fill-color);\n",
              "    }\n",
              "  }\n",
              "</style>\n",
              "\n",
              "      <script>\n",
              "        async function quickchart(key) {\n",
              "          const quickchartButtonEl =\n",
              "            document.querySelector('#' + key + ' button');\n",
              "          quickchartButtonEl.disabled = true;  // To prevent multiple clicks.\n",
              "          quickchartButtonEl.classList.add('colab-df-spinner');\n",
              "          try {\n",
              "            const charts = await google.colab.kernel.invokeFunction(\n",
              "                'suggestCharts', [key], {});\n",
              "          } catch (error) {\n",
              "            console.error('Error during call to suggestCharts:', error);\n",
              "          }\n",
              "          quickchartButtonEl.classList.remove('colab-df-spinner');\n",
              "          quickchartButtonEl.classList.add('colab-df-quickchart-complete');\n",
              "        }\n",
              "        (() => {\n",
              "          let quickchartButtonEl =\n",
              "            document.querySelector('#df-43af4488-fac7-4ea8-bad2-dd966380c42d button');\n",
              "          quickchartButtonEl.style.display =\n",
              "            google.colab.kernel.accessAllowed ? 'block' : 'none';\n",
              "        })();\n",
              "      </script>\n",
              "    </div>\n",
              "\n",
              "    </div>\n",
              "  </div>\n"
            ],
            "application/vnd.google.colaboratory.intrinsic+json": {
              "type": "dataframe",
              "variable_name": "df",
              "summary": "{\n  \"name\": \"df\",\n  \"rows\": 66368,\n  \"fields\": [\n    {\n      \"column\": \"permalink\",\n      \"properties\": {\n        \"dtype\": \"string\",\n        \"num_unique_values\": 66368,\n        \"samples\": [\n          \"/organization/esoko\",\n          \"/organization/plansource-holdings\",\n          \"/organization/veteran-ventures-angel-network-2\"\n        ],\n        \"semantic_type\": \"\",\n        \"description\": \"\"\n      }\n    },\n    {\n      \"column\": \"name\",\n      \"properties\": {\n        \"dtype\": \"string\",\n        \"num_unique_values\": 66102,\n        \"samples\": [\n          \"SeeSaw Networks\",\n          \"Garmentory\",\n          \"Qool\"\n        ],\n        \"semantic_type\": \"\",\n        \"description\": \"\"\n      }\n    },\n    {\n      \"column\": \"homepage_url\",\n      \"properties\": {\n        \"dtype\": \"string\",\n        \"num_unique_values\": 61191,\n        \"samples\": [\n          \"http://www.myZeo.com\",\n          \"https://www.juhe.cn/\",\n          \"http://www.jollydeck.com/\"\n        ],\n        \"semantic_type\": \"\",\n        \"description\": \"\"\n      }\n    },\n    {\n      \"column\": \"category_list\",\n      \"properties\": {\n        \"dtype\": \"category\",\n        \"num_unique_values\": 27296,\n        \"samples\": [\n          \"Kids|Parenting|Technology\",\n          \"Entertainment|Games|Internet|Mobile|Technology\",\n          \"Health Care|Health Care Information Technology|Innovation Management\"\n        ],\n        \"semantic_type\": \"\",\n        \"description\": \"\"\n      }\n    },\n    {\n      \"column\": \"funding_total_usd\",\n      \"properties\": {\n        \"dtype\": \"category\",\n        \"num_unique_values\": 18896,\n        \"samples\": [\n          \"2547368\",\n          \"3970000\",\n          \"1118000\"\n        ],\n        \"semantic_type\": \"\",\n        \"description\": \"\"\n      }\n    },\n    {\n      \"column\": \"status\",\n      \"properties\": {\n        \"dtype\": \"category\",\n        \"num_unique_values\": 4,\n        \"samples\": [\n          \"acquired\",\n          \"ipo\",\n          \"operating\"\n        ],\n        \"semantic_type\": \"\",\n        \"description\": \"\"\n      }\n    },\n    {\n      \"column\": \"country_code\",\n      \"properties\": {\n        \"dtype\": \"category\",\n        \"num_unique_values\": 137,\n        \"samples\": [\n          \"LAO\",\n          \"TGO\",\n          \"KOR\"\n        ],\n        \"semantic_type\": \"\",\n        \"description\": \"\"\n      }\n    },\n    {\n      \"column\": \"state_code\",\n      \"properties\": {\n        \"dtype\": \"category\",\n        \"num_unique_values\": 311,\n        \"samples\": [\n          \"D5\",\n          \"NJ\",\n          \"P2\"\n        ],\n        \"semantic_type\": \"\",\n        \"description\": \"\"\n      }\n    },\n    {\n      \"column\": \"region\",\n      \"properties\": {\n        \"dtype\": \"category\",\n        \"num_unique_values\": 1092,\n        \"samples\": [\n          \"Trowbridge\",\n          \"Lagos\",\n          \"Kanpur\"\n        ],\n        \"semantic_type\": \"\",\n        \"description\": \"\"\n      }\n    },\n    {\n      \"column\": \"city\",\n      \"properties\": {\n        \"dtype\": \"category\",\n        \"num_unique_values\": 5111,\n        \"samples\": [\n          \"Tennessee\",\n          \"Fyshwick\",\n          \"West Chicago\"\n        ],\n        \"semantic_type\": \"\",\n        \"description\": \"\"\n      }\n    },\n    {\n      \"column\": \"funding_rounds\",\n      \"properties\": {\n        \"dtype\": \"number\",\n        \"std\": 1,\n        \"min\": 1,\n        \"max\": 19,\n        \"num_unique_values\": 19,\n        \"samples\": [\n          1,\n          5,\n          12\n        ],\n        \"semantic_type\": \"\",\n        \"description\": \"\"\n      }\n    },\n    {\n      \"column\": \"founded_at\",\n      \"properties\": {\n        \"dtype\": \"category\",\n        \"num_unique_values\": 3978,\n        \"samples\": [\n          \"2010-04-18\",\n          \"1854-02-01\",\n          \"2009-12-07\"\n        ],\n        \"semantic_type\": \"\",\n        \"description\": \"\"\n      }\n    },\n    {\n      \"column\": \"first_funding_at\",\n      \"properties\": {\n        \"dtype\": \"category\",\n        \"num_unique_values\": 4817,\n        \"samples\": [\n          \"2008-05-10\",\n          \"2001-11-05\",\n          \"2011-10-05\"\n        ],\n        \"semantic_type\": \"\",\n        \"description\": \"\"\n      }\n    },\n    {\n      \"column\": \"last_funding_at\",\n      \"properties\": {\n        \"dtype\": \"object\",\n        \"num_unique_values\": 4518,\n        \"samples\": [\n          \"1984-01-01\",\n          \"2009-02-17\",\n          \"2015-02-16\"\n        ],\n        \"semantic_type\": \"\",\n        \"description\": \"\"\n      }\n    }\n  ]\n}"
            }
          },
          "metadata": {},
          "execution_count": 111
        }
      ],
      "source": [
        "# importing key libraries for this project\n",
        "import pandas as pd\n",
        "import numpy as np\n",
        "import matplotlib.pyplot as plt\n",
        "import seaborn as sns\n",
        "\n",
        "# importing the dataset\n",
        "from google.colab import files\n",
        "uploaded = files.upload()\n",
        "\n",
        "df = pd.read_csv('big_startup_secsees_dataset.csv')\n",
        "\n",
        "df.head()"
      ]
    },
    {
      "cell_type": "code",
      "source": [
        "# viewing the size of the dataset before cleaning\n",
        "print(\"Number of rows in the dataset:\", len(df))"
      ],
      "metadata": {
        "colab": {
          "base_uri": "https://localhost:8080/"
        },
        "id": "JbmdEv4gWXzp",
        "outputId": "9f26e45e-4bdc-4780-e0cd-736db96ecbf2"
      },
      "execution_count": null,
      "outputs": [
        {
          "output_type": "stream",
          "name": "stdout",
          "text": [
            "Number of rows in the dataset: 66368\n"
          ]
        }
      ]
    },
    {
      "cell_type": "code",
      "source": [
        "# exploring the data\n",
        "df.info()"
      ],
      "metadata": {
        "colab": {
          "base_uri": "https://localhost:8080/"
        },
        "id": "VSYUCx6AWoUZ",
        "outputId": "ab8942f4-3290-4281-9d8e-023bd9575970"
      },
      "execution_count": null,
      "outputs": [
        {
          "output_type": "stream",
          "name": "stdout",
          "text": [
            "<class 'pandas.core.frame.DataFrame'>\n",
            "RangeIndex: 66368 entries, 0 to 66367\n",
            "Data columns (total 14 columns):\n",
            " #   Column             Non-Null Count  Dtype \n",
            "---  ------             --------------  ----- \n",
            " 0   permalink          66368 non-null  object\n",
            " 1   name               66367 non-null  object\n",
            " 2   homepage_url       61310 non-null  object\n",
            " 3   category_list      63220 non-null  object\n",
            " 4   funding_total_usd  66368 non-null  object\n",
            " 5   status             66368 non-null  object\n",
            " 6   country_code       59410 non-null  object\n",
            " 7   state_code         57821 non-null  object\n",
            " 8   region             58338 non-null  object\n",
            " 9   city               58340 non-null  object\n",
            " 10  funding_rounds     66368 non-null  int64 \n",
            " 11  founded_at         51147 non-null  object\n",
            " 12  first_funding_at   66344 non-null  object\n",
            " 13  last_funding_at    66368 non-null  object\n",
            "dtypes: int64(1), object(13)\n",
            "memory usage: 7.1+ MB\n"
          ]
        }
      ]
    },
    {
      "cell_type": "markdown",
      "source": [
        "**Data Cleaning Process**\n",
        "\n",
        "\n",
        "*   `Removing duplicates`: removing duplicates ensures data isn't skewed\n",
        "*   `Removing unneeded columns`: optimizes load times by removing irrelevant columns\n",
        "*   `Fixing data types`: fixing datatypes for clarity and mathematical uses (see, funding_total_usd)\n",
        "*   `Separating categories`: by duplicating each row to allow for 1 category per row, this allows for a more expansive analysis to be done with categories\n",
        "*   `Removing significant outliers`: prevents outliers from skewing the dataset and the ML prediction model\n",
        "*   `Removing rows with any amount of Nulls/NaN/NaT`: ensures data quality by having full information on every row because all columns remaining are important to the prediction capability of the model\n",
        "\n",
        "\n",
        "\n",
        "\n"
      ],
      "metadata": {
        "id": "2h-cj-x-Yi6M"
      }
    },
    {
      "cell_type": "code",
      "source": [
        "# dropping any duplicate rows\n",
        "df.drop_duplicates()\n",
        "\n",
        "# view amount of rows after dropping duplicates\n",
        "print(\"Number of rows in the dataset:\", len(df))"
      ],
      "metadata": {
        "colab": {
          "base_uri": "https://localhost:8080/"
        },
        "id": "StT6MqPnW_2t",
        "outputId": "0a0040de-2120-43db-ec25-dc07ee6d8045"
      },
      "execution_count": null,
      "outputs": [
        {
          "output_type": "stream",
          "name": "stdout",
          "text": [
            "Number of rows in the dataset: 66368\n"
          ]
        }
      ]
    },
    {
      "cell_type": "markdown",
      "source": [
        "No duplicates in the dataset."
      ],
      "metadata": {
        "id": "_iadsEJGXilH"
      }
    },
    {
      "cell_type": "code",
      "source": [
        "# removing unneeded columns\n",
        "df = df.drop(['state_code', 'region', 'city', 'permalink', 'name', 'homepage_url'], axis='columns')"
      ],
      "metadata": {
        "id": "M8aACDoJXnAb"
      },
      "execution_count": null,
      "outputs": []
    },
    {
      "cell_type": "code",
      "source": [
        "# view remaining columns\n",
        "df.columns.tolist()"
      ],
      "metadata": {
        "colab": {
          "base_uri": "https://localhost:8080/"
        },
        "id": "plnpS9gxi4ns",
        "outputId": "f703bb1c-2a06-458d-b876-e112ea976d40"
      },
      "execution_count": null,
      "outputs": [
        {
          "output_type": "execute_result",
          "data": {
            "text/plain": [
              "['category_list',\n",
              " 'funding_total_usd',\n",
              " 'status',\n",
              " 'country_code',\n",
              " 'funding_rounds',\n",
              " 'founded_at',\n",
              " 'first_funding_at',\n",
              " 'last_funding_at']"
            ]
          },
          "metadata": {},
          "execution_count": 116
        }
      ]
    },
    {
      "cell_type": "markdown",
      "source": [
        "**Columns Remaining and Why**\n",
        "\n",
        "\n",
        "*   `Category_list`: there might be a trend of certain types of categories failing more than succeeding\n",
        "*   `Funding_total_usd`: amount of funding (low or high) could be a reason why startups are failing or succeeding because it takes time to break even\n",
        "*   `Status`: status is whether or not a startup is closed (0) or operating (1)\n",
        "*   `Country_code`: certain countries might have a higher % of successful startups than others\n",
        "*   `Funding_rounds`: the amount of funding rounds correlates to investor interest, more interest should generally mean a higher chance of succeeding\n",
        "*   `Founded_at`: certain timeframes (2008, 2020 for example) are much different financially than other years\n",
        "*  ` First_funding_at`: see Founded_at for more details\n",
        "*   `Last_funding_at`: later funding indicates attempts to scale and expand the startup operations\n",
        "\n"
      ],
      "metadata": {
        "id": "LtJRcvg4jCY8"
      }
    },
    {
      "cell_type": "code",
      "source": [
        "# convert dates to datetime\n",
        "df['founded_at'] = pd.to_datetime(df['founded_at'], errors='coerce')\n",
        "df['first_funding_at'] = pd.to_datetime(df['first_funding_at'], errors='coerce')\n",
        "df['last_funding_at'] = pd.to_datetime(df['last_funding_at'], errors='coerce')"
      ],
      "metadata": {
        "id": "cMe16S6a1W_A"
      },
      "execution_count": null,
      "outputs": []
    },
    {
      "cell_type": "code",
      "source": [
        "# convert funding total to numeric\n",
        "df['funding_total_usd'] = pd.to_numeric(df['funding_total_usd'], errors='coerce')"
      ],
      "metadata": {
        "id": "6f3CTWni3U_p"
      },
      "execution_count": null,
      "outputs": []
    },
    {
      "cell_type": "code",
      "source": [
        "# before exploding category list, viewing amount of operating or closed startups to gauge whether\n",
        "# or not duplicating rows will exasperbate the data imbalance\n",
        "\n",
        "df['status'].value_counts()"
      ],
      "metadata": {
        "colab": {
          "base_uri": "https://localhost:8080/",
          "height": 241
        },
        "id": "EWUOhN8n3xY3",
        "outputId": "f37b4829-b8b0-440b-8596-ec550f43feff"
      },
      "execution_count": null,
      "outputs": [
        {
          "output_type": "execute_result",
          "data": {
            "text/plain": [
              "status\n",
              "operating    53034\n",
              "closed        6238\n",
              "acquired      5549\n",
              "ipo           1547\n",
              "Name: count, dtype: int64"
            ],
            "text/html": [
              "<div>\n",
              "<style scoped>\n",
              "    .dataframe tbody tr th:only-of-type {\n",
              "        vertical-align: middle;\n",
              "    }\n",
              "\n",
              "    .dataframe tbody tr th {\n",
              "        vertical-align: top;\n",
              "    }\n",
              "\n",
              "    .dataframe thead th {\n",
              "        text-align: right;\n",
              "    }\n",
              "</style>\n",
              "<table border=\"1\" class=\"dataframe\">\n",
              "  <thead>\n",
              "    <tr style=\"text-align: right;\">\n",
              "      <th></th>\n",
              "      <th>count</th>\n",
              "    </tr>\n",
              "    <tr>\n",
              "      <th>status</th>\n",
              "      <th></th>\n",
              "    </tr>\n",
              "  </thead>\n",
              "  <tbody>\n",
              "    <tr>\n",
              "      <th>operating</th>\n",
              "      <td>53034</td>\n",
              "    </tr>\n",
              "    <tr>\n",
              "      <th>closed</th>\n",
              "      <td>6238</td>\n",
              "    </tr>\n",
              "    <tr>\n",
              "      <th>acquired</th>\n",
              "      <td>5549</td>\n",
              "    </tr>\n",
              "    <tr>\n",
              "      <th>ipo</th>\n",
              "      <td>1547</td>\n",
              "    </tr>\n",
              "  </tbody>\n",
              "</table>\n",
              "</div><br><label><b>dtype:</b> int64</label>"
            ]
          },
          "metadata": {},
          "execution_count": 119
        }
      ]
    },
    {
      "cell_type": "code",
      "source": [
        "# actually exploding category list\n",
        "df = df.assign(category_list=df['category_list'].str.split('|')).explode('category_list')"
      ],
      "metadata": {
        "id": "tNSZzqo34JEy"
      },
      "execution_count": null,
      "outputs": []
    },
    {
      "cell_type": "code",
      "source": [
        "# viewing results\n",
        "df['status'].value_counts()"
      ],
      "metadata": {
        "colab": {
          "base_uri": "https://localhost:8080/",
          "height": 241
        },
        "id": "O_6cY3zQ4Qd7",
        "outputId": "f0d00b77-b25d-4e27-9ef2-ecc7390f37b0"
      },
      "execution_count": null,
      "outputs": [
        {
          "output_type": "execute_result",
          "data": {
            "text/plain": [
              "status\n",
              "operating    126370\n",
              "closed        13600\n",
              "acquired      12829\n",
              "ipo            3007\n",
              "Name: count, dtype: int64"
            ],
            "text/html": [
              "<div>\n",
              "<style scoped>\n",
              "    .dataframe tbody tr th:only-of-type {\n",
              "        vertical-align: middle;\n",
              "    }\n",
              "\n",
              "    .dataframe tbody tr th {\n",
              "        vertical-align: top;\n",
              "    }\n",
              "\n",
              "    .dataframe thead th {\n",
              "        text-align: right;\n",
              "    }\n",
              "</style>\n",
              "<table border=\"1\" class=\"dataframe\">\n",
              "  <thead>\n",
              "    <tr style=\"text-align: right;\">\n",
              "      <th></th>\n",
              "      <th>count</th>\n",
              "    </tr>\n",
              "    <tr>\n",
              "      <th>status</th>\n",
              "      <th></th>\n",
              "    </tr>\n",
              "  </thead>\n",
              "  <tbody>\n",
              "    <tr>\n",
              "      <th>operating</th>\n",
              "      <td>126370</td>\n",
              "    </tr>\n",
              "    <tr>\n",
              "      <th>closed</th>\n",
              "      <td>13600</td>\n",
              "    </tr>\n",
              "    <tr>\n",
              "      <th>acquired</th>\n",
              "      <td>12829</td>\n",
              "    </tr>\n",
              "    <tr>\n",
              "      <th>ipo</th>\n",
              "      <td>3007</td>\n",
              "    </tr>\n",
              "  </tbody>\n",
              "</table>\n",
              "</div><br><label><b>dtype:</b> int64</label>"
            ]
          },
          "metadata": {},
          "execution_count": 121
        }
      ]
    },
    {
      "cell_type": "markdown",
      "source": [
        "**Prior to Removing Rows w/ Null Values**\n",
        "\n",
        "`Before Exploding`: Closed makes up 9.3% of dataset\n",
        "\n",
        "`After Exploding`: Closed makes up 8.7% of dataset\n",
        "\n",
        "Negligible impact on dataset from using the explode function."
      ],
      "metadata": {
        "id": "-_nY34_15tAk"
      }
    },
    {
      "cell_type": "code",
      "source": [
        "# assessing outliers in the dataset\n",
        "df['last_funding_at'].sort_values(ascending=False).head(10)"
      ],
      "metadata": {
        "colab": {
          "base_uri": "https://localhost:8080/",
          "height": 397
        },
        "id": "9eX0VVlf75LI",
        "outputId": "2d66d66f-a3b0-4b25-dcf9-13685ab0a7d4"
      },
      "execution_count": null,
      "outputs": [
        {
          "output_type": "execute_result",
          "data": {
            "text/plain": [
              "63921   2115-12-01\n",
              "63921   2115-12-01\n",
              "63921   2115-12-01\n",
              "46956   2105-05-01\n",
              "46956   2105-05-01\n",
              "46956   2105-05-01\n",
              "46956   2105-05-01\n",
              "36653   2015-12-12\n",
              "36653   2015-12-12\n",
              "36653   2015-12-12\n",
              "Name: last_funding_at, dtype: datetime64[ns]"
            ],
            "text/html": [
              "<div>\n",
              "<style scoped>\n",
              "    .dataframe tbody tr th:only-of-type {\n",
              "        vertical-align: middle;\n",
              "    }\n",
              "\n",
              "    .dataframe tbody tr th {\n",
              "        vertical-align: top;\n",
              "    }\n",
              "\n",
              "    .dataframe thead th {\n",
              "        text-align: right;\n",
              "    }\n",
              "</style>\n",
              "<table border=\"1\" class=\"dataframe\">\n",
              "  <thead>\n",
              "    <tr style=\"text-align: right;\">\n",
              "      <th></th>\n",
              "      <th>last_funding_at</th>\n",
              "    </tr>\n",
              "  </thead>\n",
              "  <tbody>\n",
              "    <tr>\n",
              "      <th>63921</th>\n",
              "      <td>2115-12-01</td>\n",
              "    </tr>\n",
              "    <tr>\n",
              "      <th>63921</th>\n",
              "      <td>2115-12-01</td>\n",
              "    </tr>\n",
              "    <tr>\n",
              "      <th>63921</th>\n",
              "      <td>2115-12-01</td>\n",
              "    </tr>\n",
              "    <tr>\n",
              "      <th>46956</th>\n",
              "      <td>2105-05-01</td>\n",
              "    </tr>\n",
              "    <tr>\n",
              "      <th>46956</th>\n",
              "      <td>2105-05-01</td>\n",
              "    </tr>\n",
              "    <tr>\n",
              "      <th>46956</th>\n",
              "      <td>2105-05-01</td>\n",
              "    </tr>\n",
              "    <tr>\n",
              "      <th>46956</th>\n",
              "      <td>2105-05-01</td>\n",
              "    </tr>\n",
              "    <tr>\n",
              "      <th>36653</th>\n",
              "      <td>2015-12-12</td>\n",
              "    </tr>\n",
              "    <tr>\n",
              "      <th>36653</th>\n",
              "      <td>2015-12-12</td>\n",
              "    </tr>\n",
              "    <tr>\n",
              "      <th>36653</th>\n",
              "      <td>2015-12-12</td>\n",
              "    </tr>\n",
              "  </tbody>\n",
              "</table>\n",
              "</div><br><label><b>dtype:</b> datetime64[ns]</label>"
            ]
          },
          "metadata": {},
          "execution_count": 122
        }
      ]
    },
    {
      "cell_type": "markdown",
      "source": [
        "63921 and 46956 need to be removed: those dates don't exist."
      ],
      "metadata": {
        "id": "wwly8uqE9FZp"
      }
    },
    {
      "cell_type": "code",
      "source": [
        "# removing outliers date time\n",
        "df = df[df['last_funding_at'].dt.year <= 2026]"
      ],
      "metadata": {
        "id": "z08wSerVQqDk"
      },
      "execution_count": null,
      "outputs": []
    },
    {
      "cell_type": "code",
      "source": [
        "# continuing to assess outliers\n",
        "df['last_funding_at'].sort_values().head(10)"
      ],
      "metadata": {
        "colab": {
          "base_uri": "https://localhost:8080/",
          "height": 397
        },
        "id": "BtMkHaAh82uB",
        "outputId": "4a606caf-fcc7-4b76-e3bf-a9ff9c63e4e1"
      },
      "execution_count": null,
      "outputs": [
        {
          "output_type": "execute_result",
          "data": {
            "text/plain": [
              "28378   1971-01-01\n",
              "8786    1973-04-15\n",
              "3728    1977-05-15\n",
              "3728    1977-05-15\n",
              "3728    1977-05-15\n",
              "3728    1977-05-15\n",
              "3728    1977-05-15\n",
              "744     1979-01-01\n",
              "36251   1980-01-01\n",
              "6049    1982-03-20\n",
              "Name: last_funding_at, dtype: datetime64[ns]"
            ],
            "text/html": [
              "<div>\n",
              "<style scoped>\n",
              "    .dataframe tbody tr th:only-of-type {\n",
              "        vertical-align: middle;\n",
              "    }\n",
              "\n",
              "    .dataframe tbody tr th {\n",
              "        vertical-align: top;\n",
              "    }\n",
              "\n",
              "    .dataframe thead th {\n",
              "        text-align: right;\n",
              "    }\n",
              "</style>\n",
              "<table border=\"1\" class=\"dataframe\">\n",
              "  <thead>\n",
              "    <tr style=\"text-align: right;\">\n",
              "      <th></th>\n",
              "      <th>last_funding_at</th>\n",
              "    </tr>\n",
              "  </thead>\n",
              "  <tbody>\n",
              "    <tr>\n",
              "      <th>28378</th>\n",
              "      <td>1971-01-01</td>\n",
              "    </tr>\n",
              "    <tr>\n",
              "      <th>8786</th>\n",
              "      <td>1973-04-15</td>\n",
              "    </tr>\n",
              "    <tr>\n",
              "      <th>3728</th>\n",
              "      <td>1977-05-15</td>\n",
              "    </tr>\n",
              "    <tr>\n",
              "      <th>3728</th>\n",
              "      <td>1977-05-15</td>\n",
              "    </tr>\n",
              "    <tr>\n",
              "      <th>3728</th>\n",
              "      <td>1977-05-15</td>\n",
              "    </tr>\n",
              "    <tr>\n",
              "      <th>3728</th>\n",
              "      <td>1977-05-15</td>\n",
              "    </tr>\n",
              "    <tr>\n",
              "      <th>3728</th>\n",
              "      <td>1977-05-15</td>\n",
              "    </tr>\n",
              "    <tr>\n",
              "      <th>744</th>\n",
              "      <td>1979-01-01</td>\n",
              "    </tr>\n",
              "    <tr>\n",
              "      <th>36251</th>\n",
              "      <td>1980-01-01</td>\n",
              "    </tr>\n",
              "    <tr>\n",
              "      <th>6049</th>\n",
              "      <td>1982-03-20</td>\n",
              "    </tr>\n",
              "  </tbody>\n",
              "</table>\n",
              "</div><br><label><b>dtype:</b> datetime64[ns]</label>"
            ]
          },
          "metadata": {},
          "execution_count": 124
        }
      ]
    },
    {
      "cell_type": "code",
      "source": [
        "# continuing to assess outliers\n",
        "df['first_funding_at'].sort_values(ascending=False).head(10)"
      ],
      "metadata": {
        "colab": {
          "base_uri": "https://localhost:8080/",
          "height": 397
        },
        "id": "IkNwDwKd9o04",
        "outputId": "0461d9df-9674-445f-e57c-060d82c2530b"
      },
      "execution_count": null,
      "outputs": [
        {
          "output_type": "execute_result",
          "data": {
            "text/plain": [
              "30484   2015-12-05\n",
              "56806   2015-12-04\n",
              "36147   2015-12-04\n",
              "48845   2015-12-04\n",
              "56806   2015-12-04\n",
              "66202   2015-12-04\n",
              "36894   2015-12-04\n",
              "32485   2015-12-04\n",
              "55124   2015-12-03\n",
              "61114   2015-12-03\n",
              "Name: first_funding_at, dtype: datetime64[ns]"
            ],
            "text/html": [
              "<div>\n",
              "<style scoped>\n",
              "    .dataframe tbody tr th:only-of-type {\n",
              "        vertical-align: middle;\n",
              "    }\n",
              "\n",
              "    .dataframe tbody tr th {\n",
              "        vertical-align: top;\n",
              "    }\n",
              "\n",
              "    .dataframe thead th {\n",
              "        text-align: right;\n",
              "    }\n",
              "</style>\n",
              "<table border=\"1\" class=\"dataframe\">\n",
              "  <thead>\n",
              "    <tr style=\"text-align: right;\">\n",
              "      <th></th>\n",
              "      <th>first_funding_at</th>\n",
              "    </tr>\n",
              "  </thead>\n",
              "  <tbody>\n",
              "    <tr>\n",
              "      <th>30484</th>\n",
              "      <td>2015-12-05</td>\n",
              "    </tr>\n",
              "    <tr>\n",
              "      <th>56806</th>\n",
              "      <td>2015-12-04</td>\n",
              "    </tr>\n",
              "    <tr>\n",
              "      <th>36147</th>\n",
              "      <td>2015-12-04</td>\n",
              "    </tr>\n",
              "    <tr>\n",
              "      <th>48845</th>\n",
              "      <td>2015-12-04</td>\n",
              "    </tr>\n",
              "    <tr>\n",
              "      <th>56806</th>\n",
              "      <td>2015-12-04</td>\n",
              "    </tr>\n",
              "    <tr>\n",
              "      <th>66202</th>\n",
              "      <td>2015-12-04</td>\n",
              "    </tr>\n",
              "    <tr>\n",
              "      <th>36894</th>\n",
              "      <td>2015-12-04</td>\n",
              "    </tr>\n",
              "    <tr>\n",
              "      <th>32485</th>\n",
              "      <td>2015-12-04</td>\n",
              "    </tr>\n",
              "    <tr>\n",
              "      <th>55124</th>\n",
              "      <td>2015-12-03</td>\n",
              "    </tr>\n",
              "    <tr>\n",
              "      <th>61114</th>\n",
              "      <td>2015-12-03</td>\n",
              "    </tr>\n",
              "  </tbody>\n",
              "</table>\n",
              "</div><br><label><b>dtype:</b> datetime64[ns]</label>"
            ]
          },
          "metadata": {},
          "execution_count": 125
        }
      ]
    },
    {
      "cell_type": "code",
      "source": [
        "# continuing to assess outliers\n",
        "df['first_funding_at'].sort_values().head(10)"
      ],
      "metadata": {
        "colab": {
          "base_uri": "https://localhost:8080/",
          "height": 397
        },
        "outputId": "c3fef520-1f06-4964-9192-00c90f283f4a",
        "id": "yA2oBtr691yF"
      },
      "execution_count": null,
      "outputs": [
        {
          "output_type": "execute_result",
          "data": {
            "text/plain": [
              "61699   1960-01-01\n",
              "61699   1960-01-01\n",
              "28378   1971-01-01\n",
              "8786    1973-04-15\n",
              "3728    1977-05-15\n",
              "3728    1977-05-15\n",
              "3728    1977-05-15\n",
              "3728    1977-05-15\n",
              "3728    1977-05-15\n",
              "744     1979-01-01\n",
              "Name: first_funding_at, dtype: datetime64[ns]"
            ],
            "text/html": [
              "<div>\n",
              "<style scoped>\n",
              "    .dataframe tbody tr th:only-of-type {\n",
              "        vertical-align: middle;\n",
              "    }\n",
              "\n",
              "    .dataframe tbody tr th {\n",
              "        vertical-align: top;\n",
              "    }\n",
              "\n",
              "    .dataframe thead th {\n",
              "        text-align: right;\n",
              "    }\n",
              "</style>\n",
              "<table border=\"1\" class=\"dataframe\">\n",
              "  <thead>\n",
              "    <tr style=\"text-align: right;\">\n",
              "      <th></th>\n",
              "      <th>first_funding_at</th>\n",
              "    </tr>\n",
              "  </thead>\n",
              "  <tbody>\n",
              "    <tr>\n",
              "      <th>61699</th>\n",
              "      <td>1960-01-01</td>\n",
              "    </tr>\n",
              "    <tr>\n",
              "      <th>61699</th>\n",
              "      <td>1960-01-01</td>\n",
              "    </tr>\n",
              "    <tr>\n",
              "      <th>28378</th>\n",
              "      <td>1971-01-01</td>\n",
              "    </tr>\n",
              "    <tr>\n",
              "      <th>8786</th>\n",
              "      <td>1973-04-15</td>\n",
              "    </tr>\n",
              "    <tr>\n",
              "      <th>3728</th>\n",
              "      <td>1977-05-15</td>\n",
              "    </tr>\n",
              "    <tr>\n",
              "      <th>3728</th>\n",
              "      <td>1977-05-15</td>\n",
              "    </tr>\n",
              "    <tr>\n",
              "      <th>3728</th>\n",
              "      <td>1977-05-15</td>\n",
              "    </tr>\n",
              "    <tr>\n",
              "      <th>3728</th>\n",
              "      <td>1977-05-15</td>\n",
              "    </tr>\n",
              "    <tr>\n",
              "      <th>3728</th>\n",
              "      <td>1977-05-15</td>\n",
              "    </tr>\n",
              "    <tr>\n",
              "      <th>744</th>\n",
              "      <td>1979-01-01</td>\n",
              "    </tr>\n",
              "  </tbody>\n",
              "</table>\n",
              "</div><br><label><b>dtype:</b> datetime64[ns]</label>"
            ]
          },
          "metadata": {},
          "execution_count": 126
        }
      ]
    },
    {
      "cell_type": "code",
      "source": [
        "# removing all rows w/ any null, NaN, or NaT\n",
        "df = df.dropna()"
      ],
      "metadata": {
        "id": "w8C_l8KmWMDY"
      },
      "execution_count": null,
      "outputs": []
    },
    {
      "cell_type": "code",
      "source": [
        "# view size of dataset after removing all nulls\n",
        "df.info()"
      ],
      "metadata": {
        "colab": {
          "base_uri": "https://localhost:8080/"
        },
        "id": "lUm_kxw2WaAG",
        "outputId": "92b68ea0-0b6e-427f-8355-fb5529a1affa"
      },
      "execution_count": null,
      "outputs": [
        {
          "output_type": "stream",
          "name": "stdout",
          "text": [
            "<class 'pandas.core.frame.DataFrame'>\n",
            "Index: 100963 entries, 1 to 66366\n",
            "Data columns (total 8 columns):\n",
            " #   Column             Non-Null Count   Dtype         \n",
            "---  ------             --------------   -----         \n",
            " 0   category_list      100963 non-null  object        \n",
            " 1   funding_total_usd  100963 non-null  float64       \n",
            " 2   status             100963 non-null  object        \n",
            " 3   country_code       100963 non-null  object        \n",
            " 4   funding_rounds     100963 non-null  int64         \n",
            " 5   founded_at         100963 non-null  datetime64[ns]\n",
            " 6   first_funding_at   100963 non-null  datetime64[ns]\n",
            " 7   last_funding_at    100963 non-null  datetime64[ns]\n",
            "dtypes: datetime64[ns](3), float64(1), int64(1), object(3)\n",
            "memory usage: 6.9+ MB\n"
          ]
        }
      ]
    },
    {
      "cell_type": "code",
      "source": [
        "# checking outliers of total funding\n",
        "\n",
        "from scipy.stats import zscore\n",
        "import numpy as np\n",
        "\n",
        "# calculate z-scores\n",
        "z_scores = zscore(df['funding_total_usd'])\n",
        "\n",
        "# Step 2: Keep only rows where |z| < 3 (i.e., not outliers)\n",
        "df = df[np.abs(z_scores) < 3]"
      ],
      "metadata": {
        "id": "IbXxd8KAXreu"
      },
      "execution_count": null,
      "outputs": []
    },
    {
      "cell_type": "code",
      "source": [
        "# viewing what was removed\n",
        "print(\"Number of rows in the dataset:\", len(df))"
      ],
      "metadata": {
        "colab": {
          "base_uri": "https://localhost:8080/"
        },
        "id": "qhRMemj6YZEn",
        "outputId": "122b30b1-9075-497c-f6cd-866f2430a266"
      },
      "execution_count": null,
      "outputs": [
        {
          "output_type": "stream",
          "name": "stdout",
          "text": [
            "Number of rows in the dataset: 100697\n"
          ]
        }
      ]
    },
    {
      "cell_type": "code",
      "source": [
        "# viewing amount of each status after data cleaning\n",
        "df['status'].value_counts()"
      ],
      "metadata": {
        "colab": {
          "base_uri": "https://localhost:8080/",
          "height": 241
        },
        "id": "lCQbKmpNaMgS",
        "outputId": "89f9aa39-1ed8-42c7-9b70-01ffabb4f889"
      },
      "execution_count": null,
      "outputs": [
        {
          "output_type": "execute_result",
          "data": {
            "text/plain": [
              "status\n",
              "operating    82696\n",
              "acquired      9036\n",
              "closed        6821\n",
              "ipo           2144\n",
              "Name: count, dtype: int64"
            ],
            "text/html": [
              "<div>\n",
              "<style scoped>\n",
              "    .dataframe tbody tr th:only-of-type {\n",
              "        vertical-align: middle;\n",
              "    }\n",
              "\n",
              "    .dataframe tbody tr th {\n",
              "        vertical-align: top;\n",
              "    }\n",
              "\n",
              "    .dataframe thead th {\n",
              "        text-align: right;\n",
              "    }\n",
              "</style>\n",
              "<table border=\"1\" class=\"dataframe\">\n",
              "  <thead>\n",
              "    <tr style=\"text-align: right;\">\n",
              "      <th></th>\n",
              "      <th>count</th>\n",
              "    </tr>\n",
              "    <tr>\n",
              "      <th>status</th>\n",
              "      <th></th>\n",
              "    </tr>\n",
              "  </thead>\n",
              "  <tbody>\n",
              "    <tr>\n",
              "      <th>operating</th>\n",
              "      <td>82696</td>\n",
              "    </tr>\n",
              "    <tr>\n",
              "      <th>acquired</th>\n",
              "      <td>9036</td>\n",
              "    </tr>\n",
              "    <tr>\n",
              "      <th>closed</th>\n",
              "      <td>6821</td>\n",
              "    </tr>\n",
              "    <tr>\n",
              "      <th>ipo</th>\n",
              "      <td>2144</td>\n",
              "    </tr>\n",
              "  </tbody>\n",
              "</table>\n",
              "</div><br><label><b>dtype:</b> int64</label>"
            ]
          },
          "metadata": {},
          "execution_count": 131
        }
      ]
    },
    {
      "cell_type": "markdown",
      "source": [
        "Closed is now 6.7% of dataset."
      ],
      "metadata": {
        "id": "LYAeN15paTzy"
      }
    },
    {
      "cell_type": "code",
      "source": [
        "# encoding status by 0 (closed) or 1 (acquired, ipo, or operating)\n",
        "df['status'] = df['status'].apply(lambda x: 0 if x == 'closed' else 1)"
      ],
      "metadata": {
        "id": "Ut_ZUCs6bC7R"
      },
      "execution_count": null,
      "outputs": []
    },
    {
      "cell_type": "code",
      "source": [
        "# view results of encoding\n",
        "df.head()"
      ],
      "metadata": {
        "colab": {
          "base_uri": "https://localhost:8080/",
          "height": 206
        },
        "id": "HB2zy8olbKDi",
        "outputId": "b53e60fb-b423-450a-a124-91f909b0ffc5"
      },
      "execution_count": null,
      "outputs": [
        {
          "output_type": "execute_result",
          "data": {
            "text/plain": [
              "           category_list  funding_total_usd  status country_code  \\\n",
              "1  Application Platforms           700000.0       1          USA   \n",
              "1              Real Time           700000.0       1          USA   \n",
              "1   Social Network Media           700000.0       1          USA   \n",
              "3            Curated Web          2000000.0       1          CHN   \n",
              "6          Biotechnology           762851.0       1          CAN   \n",
              "\n",
              "   funding_rounds founded_at first_funding_at last_funding_at  \n",
              "1               2 2014-09-04       2014-03-01      2014-10-14  \n",
              "1               2 2014-09-04       2014-03-01      2014-10-14  \n",
              "1               2 2014-09-04       2014-03-01      2014-10-14  \n",
              "3               1 2007-01-01       2008-03-19      2008-03-19  \n",
              "6               2 1997-01-01       2009-09-11      2009-12-21  "
            ],
            "text/html": [
              "\n",
              "  <div id=\"df-0d77b601-8cd4-46fb-98e7-acda2c42e001\" class=\"colab-df-container\">\n",
              "    <div>\n",
              "<style scoped>\n",
              "    .dataframe tbody tr th:only-of-type {\n",
              "        vertical-align: middle;\n",
              "    }\n",
              "\n",
              "    .dataframe tbody tr th {\n",
              "        vertical-align: top;\n",
              "    }\n",
              "\n",
              "    .dataframe thead th {\n",
              "        text-align: right;\n",
              "    }\n",
              "</style>\n",
              "<table border=\"1\" class=\"dataframe\">\n",
              "  <thead>\n",
              "    <tr style=\"text-align: right;\">\n",
              "      <th></th>\n",
              "      <th>category_list</th>\n",
              "      <th>funding_total_usd</th>\n",
              "      <th>status</th>\n",
              "      <th>country_code</th>\n",
              "      <th>funding_rounds</th>\n",
              "      <th>founded_at</th>\n",
              "      <th>first_funding_at</th>\n",
              "      <th>last_funding_at</th>\n",
              "    </tr>\n",
              "  </thead>\n",
              "  <tbody>\n",
              "    <tr>\n",
              "      <th>1</th>\n",
              "      <td>Application Platforms</td>\n",
              "      <td>700000.0</td>\n",
              "      <td>1</td>\n",
              "      <td>USA</td>\n",
              "      <td>2</td>\n",
              "      <td>2014-09-04</td>\n",
              "      <td>2014-03-01</td>\n",
              "      <td>2014-10-14</td>\n",
              "    </tr>\n",
              "    <tr>\n",
              "      <th>1</th>\n",
              "      <td>Real Time</td>\n",
              "      <td>700000.0</td>\n",
              "      <td>1</td>\n",
              "      <td>USA</td>\n",
              "      <td>2</td>\n",
              "      <td>2014-09-04</td>\n",
              "      <td>2014-03-01</td>\n",
              "      <td>2014-10-14</td>\n",
              "    </tr>\n",
              "    <tr>\n",
              "      <th>1</th>\n",
              "      <td>Social Network Media</td>\n",
              "      <td>700000.0</td>\n",
              "      <td>1</td>\n",
              "      <td>USA</td>\n",
              "      <td>2</td>\n",
              "      <td>2014-09-04</td>\n",
              "      <td>2014-03-01</td>\n",
              "      <td>2014-10-14</td>\n",
              "    </tr>\n",
              "    <tr>\n",
              "      <th>3</th>\n",
              "      <td>Curated Web</td>\n",
              "      <td>2000000.0</td>\n",
              "      <td>1</td>\n",
              "      <td>CHN</td>\n",
              "      <td>1</td>\n",
              "      <td>2007-01-01</td>\n",
              "      <td>2008-03-19</td>\n",
              "      <td>2008-03-19</td>\n",
              "    </tr>\n",
              "    <tr>\n",
              "      <th>6</th>\n",
              "      <td>Biotechnology</td>\n",
              "      <td>762851.0</td>\n",
              "      <td>1</td>\n",
              "      <td>CAN</td>\n",
              "      <td>2</td>\n",
              "      <td>1997-01-01</td>\n",
              "      <td>2009-09-11</td>\n",
              "      <td>2009-12-21</td>\n",
              "    </tr>\n",
              "  </tbody>\n",
              "</table>\n",
              "</div>\n",
              "    <div class=\"colab-df-buttons\">\n",
              "\n",
              "  <div class=\"colab-df-container\">\n",
              "    <button class=\"colab-df-convert\" onclick=\"convertToInteractive('df-0d77b601-8cd4-46fb-98e7-acda2c42e001')\"\n",
              "            title=\"Convert this dataframe to an interactive table.\"\n",
              "            style=\"display:none;\">\n",
              "\n",
              "  <svg xmlns=\"http://www.w3.org/2000/svg\" height=\"24px\" viewBox=\"0 -960 960 960\">\n",
              "    <path d=\"M120-120v-720h720v720H120Zm60-500h600v-160H180v160Zm220 220h160v-160H400v160Zm0 220h160v-160H400v160ZM180-400h160v-160H180v160Zm440 0h160v-160H620v160ZM180-180h160v-160H180v160Zm440 0h160v-160H620v160Z\"/>\n",
              "  </svg>\n",
              "    </button>\n",
              "\n",
              "  <style>\n",
              "    .colab-df-container {\n",
              "      display:flex;\n",
              "      gap: 12px;\n",
              "    }\n",
              "\n",
              "    .colab-df-convert {\n",
              "      background-color: #E8F0FE;\n",
              "      border: none;\n",
              "      border-radius: 50%;\n",
              "      cursor: pointer;\n",
              "      display: none;\n",
              "      fill: #1967D2;\n",
              "      height: 32px;\n",
              "      padding: 0 0 0 0;\n",
              "      width: 32px;\n",
              "    }\n",
              "\n",
              "    .colab-df-convert:hover {\n",
              "      background-color: #E2EBFA;\n",
              "      box-shadow: 0px 1px 2px rgba(60, 64, 67, 0.3), 0px 1px 3px 1px rgba(60, 64, 67, 0.15);\n",
              "      fill: #174EA6;\n",
              "    }\n",
              "\n",
              "    .colab-df-buttons div {\n",
              "      margin-bottom: 4px;\n",
              "    }\n",
              "\n",
              "    [theme=dark] .colab-df-convert {\n",
              "      background-color: #3B4455;\n",
              "      fill: #D2E3FC;\n",
              "    }\n",
              "\n",
              "    [theme=dark] .colab-df-convert:hover {\n",
              "      background-color: #434B5C;\n",
              "      box-shadow: 0px 1px 3px 1px rgba(0, 0, 0, 0.15);\n",
              "      filter: drop-shadow(0px 1px 2px rgba(0, 0, 0, 0.3));\n",
              "      fill: #FFFFFF;\n",
              "    }\n",
              "  </style>\n",
              "\n",
              "    <script>\n",
              "      const buttonEl =\n",
              "        document.querySelector('#df-0d77b601-8cd4-46fb-98e7-acda2c42e001 button.colab-df-convert');\n",
              "      buttonEl.style.display =\n",
              "        google.colab.kernel.accessAllowed ? 'block' : 'none';\n",
              "\n",
              "      async function convertToInteractive(key) {\n",
              "        const element = document.querySelector('#df-0d77b601-8cd4-46fb-98e7-acda2c42e001');\n",
              "        const dataTable =\n",
              "          await google.colab.kernel.invokeFunction('convertToInteractive',\n",
              "                                                    [key], {});\n",
              "        if (!dataTable) return;\n",
              "\n",
              "        const docLinkHtml = 'Like what you see? Visit the ' +\n",
              "          '<a target=\"_blank\" href=https://colab.research.google.com/notebooks/data_table.ipynb>data table notebook</a>'\n",
              "          + ' to learn more about interactive tables.';\n",
              "        element.innerHTML = '';\n",
              "        dataTable['output_type'] = 'display_data';\n",
              "        await google.colab.output.renderOutput(dataTable, element);\n",
              "        const docLink = document.createElement('div');\n",
              "        docLink.innerHTML = docLinkHtml;\n",
              "        element.appendChild(docLink);\n",
              "      }\n",
              "    </script>\n",
              "  </div>\n",
              "\n",
              "\n",
              "    <div id=\"df-edafa3d2-c706-4dae-9de9-580b2fce17b4\">\n",
              "      <button class=\"colab-df-quickchart\" onclick=\"quickchart('df-edafa3d2-c706-4dae-9de9-580b2fce17b4')\"\n",
              "                title=\"Suggest charts\"\n",
              "                style=\"display:none;\">\n",
              "\n",
              "<svg xmlns=\"http://www.w3.org/2000/svg\" height=\"24px\"viewBox=\"0 0 24 24\"\n",
              "     width=\"24px\">\n",
              "    <g>\n",
              "        <path d=\"M19 3H5c-1.1 0-2 .9-2 2v14c0 1.1.9 2 2 2h14c1.1 0 2-.9 2-2V5c0-1.1-.9-2-2-2zM9 17H7v-7h2v7zm4 0h-2V7h2v10zm4 0h-2v-4h2v4z\"/>\n",
              "    </g>\n",
              "</svg>\n",
              "      </button>\n",
              "\n",
              "<style>\n",
              "  .colab-df-quickchart {\n",
              "      --bg-color: #E8F0FE;\n",
              "      --fill-color: #1967D2;\n",
              "      --hover-bg-color: #E2EBFA;\n",
              "      --hover-fill-color: #174EA6;\n",
              "      --disabled-fill-color: #AAA;\n",
              "      --disabled-bg-color: #DDD;\n",
              "  }\n",
              "\n",
              "  [theme=dark] .colab-df-quickchart {\n",
              "      --bg-color: #3B4455;\n",
              "      --fill-color: #D2E3FC;\n",
              "      --hover-bg-color: #434B5C;\n",
              "      --hover-fill-color: #FFFFFF;\n",
              "      --disabled-bg-color: #3B4455;\n",
              "      --disabled-fill-color: #666;\n",
              "  }\n",
              "\n",
              "  .colab-df-quickchart {\n",
              "    background-color: var(--bg-color);\n",
              "    border: none;\n",
              "    border-radius: 50%;\n",
              "    cursor: pointer;\n",
              "    display: none;\n",
              "    fill: var(--fill-color);\n",
              "    height: 32px;\n",
              "    padding: 0;\n",
              "    width: 32px;\n",
              "  }\n",
              "\n",
              "  .colab-df-quickchart:hover {\n",
              "    background-color: var(--hover-bg-color);\n",
              "    box-shadow: 0 1px 2px rgba(60, 64, 67, 0.3), 0 1px 3px 1px rgba(60, 64, 67, 0.15);\n",
              "    fill: var(--button-hover-fill-color);\n",
              "  }\n",
              "\n",
              "  .colab-df-quickchart-complete:disabled,\n",
              "  .colab-df-quickchart-complete:disabled:hover {\n",
              "    background-color: var(--disabled-bg-color);\n",
              "    fill: var(--disabled-fill-color);\n",
              "    box-shadow: none;\n",
              "  }\n",
              "\n",
              "  .colab-df-spinner {\n",
              "    border: 2px solid var(--fill-color);\n",
              "    border-color: transparent;\n",
              "    border-bottom-color: var(--fill-color);\n",
              "    animation:\n",
              "      spin 1s steps(1) infinite;\n",
              "  }\n",
              "\n",
              "  @keyframes spin {\n",
              "    0% {\n",
              "      border-color: transparent;\n",
              "      border-bottom-color: var(--fill-color);\n",
              "      border-left-color: var(--fill-color);\n",
              "    }\n",
              "    20% {\n",
              "      border-color: transparent;\n",
              "      border-left-color: var(--fill-color);\n",
              "      border-top-color: var(--fill-color);\n",
              "    }\n",
              "    30% {\n",
              "      border-color: transparent;\n",
              "      border-left-color: var(--fill-color);\n",
              "      border-top-color: var(--fill-color);\n",
              "      border-right-color: var(--fill-color);\n",
              "    }\n",
              "    40% {\n",
              "      border-color: transparent;\n",
              "      border-right-color: var(--fill-color);\n",
              "      border-top-color: var(--fill-color);\n",
              "    }\n",
              "    60% {\n",
              "      border-color: transparent;\n",
              "      border-right-color: var(--fill-color);\n",
              "    }\n",
              "    80% {\n",
              "      border-color: transparent;\n",
              "      border-right-color: var(--fill-color);\n",
              "      border-bottom-color: var(--fill-color);\n",
              "    }\n",
              "    90% {\n",
              "      border-color: transparent;\n",
              "      border-bottom-color: var(--fill-color);\n",
              "    }\n",
              "  }\n",
              "</style>\n",
              "\n",
              "      <script>\n",
              "        async function quickchart(key) {\n",
              "          const quickchartButtonEl =\n",
              "            document.querySelector('#' + key + ' button');\n",
              "          quickchartButtonEl.disabled = true;  // To prevent multiple clicks.\n",
              "          quickchartButtonEl.classList.add('colab-df-spinner');\n",
              "          try {\n",
              "            const charts = await google.colab.kernel.invokeFunction(\n",
              "                'suggestCharts', [key], {});\n",
              "          } catch (error) {\n",
              "            console.error('Error during call to suggestCharts:', error);\n",
              "          }\n",
              "          quickchartButtonEl.classList.remove('colab-df-spinner');\n",
              "          quickchartButtonEl.classList.add('colab-df-quickchart-complete');\n",
              "        }\n",
              "        (() => {\n",
              "          let quickchartButtonEl =\n",
              "            document.querySelector('#df-edafa3d2-c706-4dae-9de9-580b2fce17b4 button');\n",
              "          quickchartButtonEl.style.display =\n",
              "            google.colab.kernel.accessAllowed ? 'block' : 'none';\n",
              "        })();\n",
              "      </script>\n",
              "    </div>\n",
              "\n",
              "    </div>\n",
              "  </div>\n"
            ],
            "application/vnd.google.colaboratory.intrinsic+json": {
              "type": "dataframe",
              "variable_name": "df"
            }
          },
          "metadata": {},
          "execution_count": 135
        }
      ]
    },
    {
      "cell_type": "markdown",
      "source": [
        "**Exploratory Data Analysis**\n",
        "\n",
        "(now that the data is fully cleaned)\n",
        "*   Countries (top 10) with the most still not closed startups\n",
        "*   Categories (top 10) with the most not closed startups\n",
        "*   Categories (top 10) with the most closed startups\n",
        "*   Amount of unique countries represented in the dataset\n",
        "*   Average funding of closed and not closed startups\n",
        "*   Average funding rounds of closed and not closed startups\n"
      ],
      "metadata": {
        "id": "ewZUMET_Ygoz"
      }
    },
    {
      "cell_type": "code",
      "source": [
        "# what percent of startups are still operating in each country?\n",
        "operating_by_country = df[df['status'] == 1].groupby('country_code')['status'].count().sort_values(ascending=False)\n",
        "\n",
        "print(operating_by_country.head(10))"
      ],
      "metadata": {
        "colab": {
          "base_uri": "https://localhost:8080/"
        },
        "id": "rxo8342_dEPK",
        "outputId": "d83d6309-e1dc-4fa2-8c63-235915aa5a85"
      },
      "execution_count": null,
      "outputs": [
        {
          "output_type": "stream",
          "name": "stdout",
          "text": [
            "country_code\n",
            "USA    59259\n",
            "GBR     6165\n",
            "CAN     3107\n",
            "IND     1985\n",
            "FRA     1850\n",
            "ISR     1677\n",
            "ESP     1557\n",
            "DEU     1462\n",
            "CHN     1088\n",
            "SGP      979\n",
            "Name: status, dtype: int64\n"
          ]
        }
      ]
    },
    {
      "cell_type": "code",
      "source": [
        "# what category has the most startups that are still operating?\n",
        "industry_survival = df[df['status'] == 1].groupby('category_list')['status'].count().sort_values(ascending=False)\n",
        "\n",
        "print(industry_survival.head(10))"
      ],
      "metadata": {
        "colab": {
          "base_uri": "https://localhost:8080/"
        },
        "id": "eZfV5fKifRLr",
        "outputId": "ab314dc7-9a15-4667-f7fb-d7c87d0b5e60"
      },
      "execution_count": null,
      "outputs": [
        {
          "output_type": "stream",
          "name": "stdout",
          "text": [
            "category_list\n",
            "Software               5711\n",
            "Mobile                 3633\n",
            "Biotechnology          2777\n",
            "E-Commerce             2541\n",
            "Enterprise Software    1962\n",
            "Social Media           1804\n",
            "Curated Web            1749\n",
            "Advertising            1647\n",
            "SaaS                   1477\n",
            "Health Care            1395\n",
            "Name: status, dtype: int64\n"
          ]
        }
      ]
    },
    {
      "cell_type": "code",
      "source": [
        "# what category has the most startups that are closed?\n",
        "industry_failure = df[df['status'] == 0].groupby('category_list')['status'].count().sort_values(ascending=False)\n",
        "\n",
        "print(industry_failure.head(10))"
      ],
      "metadata": {
        "colab": {
          "base_uri": "https://localhost:8080/"
        },
        "id": "ILY9TjfufygV",
        "outputId": "b3118966-41bb-4422-d7d3-1f4c158d263a"
      },
      "execution_count": null,
      "outputs": [
        {
          "output_type": "stream",
          "name": "stdout",
          "text": [
            "category_list\n",
            "Software               390\n",
            "Curated Web            311\n",
            "Mobile                 305\n",
            "Social Media           253\n",
            "E-Commerce             211\n",
            "Games                  157\n",
            "Advertising            152\n",
            "Biotechnology          124\n",
            "Internet               105\n",
            "Enterprise Software     97\n",
            "Name: status, dtype: int64\n"
          ]
        }
      ]
    },
    {
      "cell_type": "code",
      "source": [
        "# how many unique countries are there remaining in the dataset?\n",
        "df['country_code'].nunique()"
      ],
      "metadata": {
        "colab": {
          "base_uri": "https://localhost:8080/"
        },
        "id": "NIXEAJrNgV1E",
        "outputId": "56982702-fd63-4629-b0e1-08df626ea98a"
      },
      "execution_count": null,
      "outputs": [
        {
          "output_type": "execute_result",
          "data": {
            "text/plain": [
              "122"
            ]
          },
          "metadata": {},
          "execution_count": 146
        }
      ]
    },
    {
      "cell_type": "markdown",
      "source": [
        "There are 3 countries with no successful startups."
      ],
      "metadata": {
        "id": "GoB25BLoh0aF"
      }
    },
    {
      "cell_type": "code",
      "source": [
        "# average and median funding for closed (0) vs acquired, operating, or ipo (1)\n",
        "funding_stats = df.groupby('status')['funding_total_usd'].agg(['mean', 'median', 'count'])\n",
        "\n",
        "print(funding_stats)"
      ],
      "metadata": {
        "colab": {
          "base_uri": "https://localhost:8080/"
        },
        "id": "4bGqMT7ag1Nv",
        "outputId": "e55b5099-df93-4899-c4dc-bd47330f2846"
      },
      "execution_count": null,
      "outputs": [
        {
          "output_type": "stream",
          "name": "stdout",
          "text": [
            "                mean     median  count\n",
            "status                                \n",
            "0       6.470032e+06   690000.0   6821\n",
            "1       1.406111e+07  1700000.0  93876\n"
          ]
        }
      ]
    },
    {
      "cell_type": "markdown",
      "source": [
        "Startups that are closed have received significantly less funding: a possible correlation between funding and success."
      ],
      "metadata": {
        "id": "uOhmtQHQitxW"
      }
    },
    {
      "cell_type": "code",
      "source": [
        "# funding rounds by successful startup or failed startup\n",
        "funding_rounds = df.groupby('status')['funding_rounds'].agg(['mean', 'median', 'count'])\n",
        "\n",
        "print(funding_rounds)"
      ],
      "metadata": {
        "colab": {
          "base_uri": "https://localhost:8080/"
        },
        "id": "E6pwbtRMhNOe",
        "outputId": "fb0d00ca-6289-4318-e7f4-8b12c24973ef"
      },
      "execution_count": null,
      "outputs": [
        {
          "output_type": "stream",
          "name": "stdout",
          "text": [
            "            mean  median  count\n",
            "status                         \n",
            "0       1.611934     1.0   6821\n",
            "1       2.133634     2.0  93876\n"
          ]
        }
      ]
    },
    {
      "cell_type": "markdown",
      "source": [
        "No noticeable difference in funding rounds between closed and still operating."
      ],
      "metadata": {
        "id": "nVwG6Wkzhiqt"
      }
    }
  ]
}