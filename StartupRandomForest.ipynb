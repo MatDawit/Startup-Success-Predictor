{
  "nbformat": 4,
  "nbformat_minor": 0,
  "metadata": {
    "colab": {
      "provenance": [],
      "mount_file_id": "1TWc9t-AhM0tmxgBrCLNZqhq1mwBRJNW2",
      "authorship_tag": "ABX9TyO/bCledEUFUQPPdj0011BN",
      "include_colab_link": true
    },
    "kernelspec": {
      "name": "python3",
      "display_name": "Python 3"
    },
    "language_info": {
      "name": "python"
    }
  },
  "cells": [
    {
      "cell_type": "markdown",
      "metadata": {
        "id": "view-in-github",
        "colab_type": "text"
      },
      "source": [
        "<a href=\"https://colab.research.google.com/github/MatDawit/AI4ALL/blob/yuwen-ver/StartupRandomForest.ipynb\" target=\"_parent\"><img src=\"https://colab.research.google.com/assets/colab-badge.svg\" alt=\"Open In Colab\"/></a>"
      ]
    },
    {
      "cell_type": "code",
      "execution_count": null,
      "metadata": {
        "id": "l9bGS-rVMaCD"
      },
      "outputs": [],
      "source": [
        "import pandas as pd\n",
        "\n",
        "data = pd.read_csv(\"/content/drive/MyDrive/AI4ALL/Final_Project/modelingready_startupdata.csv\")"
      ]
    },
    {
      "cell_type": "markdown",
      "source": [
        "**when training/testing data:**\n",
        "- do label encoding on country\n",
        "- freq encoding on category\n",
        "<!-- - log transform funding_total_usd -->\n",
        "\n",
        "**considerations for improving performance:**\n",
        "- fix bias in data/imbalance - too many successful startups (oversampling)\n",
        "- more trees, tune other random forest parameters -> understand the impact of each parameter\n",
        "- remove some less relevant features (i have many dates) - feature engineering\n",
        "  - only keep founding_year, remove all other dates for less noise\n",
        "  - how much does noise/lots of features matter for random forest? is it the more features the better, or nah only keep correlated features - or is it ok bc random forest does the optimizing for u\n",
        "\n",
        "future:\n",
        "- testing with additional datasets -> more failed startups"
      ],
      "metadata": {
        "id": "s5787TBJNSgM"
      }
    },
    {
      "cell_type": "markdown",
      "source": [
        "## Random Forest Classification - predicting success (success/fail)"
      ],
      "metadata": {
        "id": "Etivtj_6hgSY"
      }
    },
    {
      "cell_type": "code",
      "source": [
        "import matplotlib.pyplot as plt"
      ],
      "metadata": {
        "id": "wAtV_wVk2j6i"
      },
      "execution_count": null,
      "outputs": []
    },
    {
      "cell_type": "code",
      "source": [
        "from sklearn.model_selection import train_test_split\n",
        "\n",
        "#split data - train/test\n",
        "inputs = ['country_code', 'funding_rounds', 'dates_missing_originally', 'founding_year', 'founding_month', 'founding_day', 'first_funding_year', 'first_funding_month', 'first_funding_day', 'last_funding_year', 'last_funding_month', 'last_funding_day', 'funding_missing_originally', 'category_freq_avg']\n",
        "x = data[inputs]\n",
        "y = data['status']\n",
        "\n",
        "X_train, X_test, y_train, y_test = train_test_split(x, y, test_size=0.3, random_state=42)"
      ],
      "metadata": {
        "id": "MBGs7qS0MpEZ"
      },
      "execution_count": null,
      "outputs": []
    },
    {
      "cell_type": "code",
      "source": [
        "from sklearn.ensemble import RandomForestClassifier\n",
        "\n",
        "#make random forest classifier model\n",
        "rf_clasif = RandomForestClassifier()\n",
        "rf_clasif.fit(X_train, y_train)\n",
        "y_pred = rf_clasif.predict(X_test)"
      ],
      "metadata": {
        "id": "0Rs6h9qVhuTY"
      },
      "execution_count": null,
      "outputs": []
    },
    {
      "cell_type": "code",
      "source": [
        "y_pred"
      ],
      "metadata": {
        "colab": {
          "base_uri": "https://localhost:8080/"
        },
        "id": "NWo-RggQiUFc",
        "outputId": "ec6ca10c-ea57-42e4-dbd7-9b91444fe396"
      },
      "execution_count": null,
      "outputs": [
        {
          "output_type": "execute_result",
          "data": {
            "text/plain": [
              "array([1, 0, 1, ..., 1, 1, 1])"
            ]
          },
          "metadata": {},
          "execution_count": 11
        }
      ]
    },
    {
      "cell_type": "markdown",
      "source": [
        "Binary classification\n",
        "- positive(1) - successful (ipo, acquired, operating)\n",
        "- negative(0) - failed (closed)"
      ],
      "metadata": {
        "id": "JZd73HGZmf7v"
      }
    },
    {
      "cell_type": "code",
      "source": [
        "from sklearn.metrics import accuracy_score\n",
        "accuracy = accuracy_score(y_test, y_pred)\n",
        "print(\"accurate predictions: \")\n",
        "print(accuracy)\n",
        "print(\"note: not good metric due to severely imbalanced classes - probably fails for predicting failed startups\")\n",
        "print(\"measures TP/(TP + FN)\")"
      ],
      "metadata": {
        "colab": {
          "base_uri": "https://localhost:8080/"
        },
        "id": "4YEFW0t1iat7",
        "outputId": "5a4cff90-f49e-40ed-f869-33142a21a822"
      },
      "execution_count": null,
      "outputs": [
        {
          "output_type": "stream",
          "name": "stdout",
          "text": [
            "accurate predictions: \n",
            "0.8924229266174555\n",
            "note: not good metric due to severely imbalanced classes - probably fails for predicting failed startups\n",
            "measures TP/(TP + FN)\n"
          ]
        }
      ]
    },
    {
      "cell_type": "markdown",
      "source": [
        "Confusion Matrix Analysis:\n",
        "test sample (+dataset in general) = VERY imbalanced\n",
        "- 1.6k failed startups vs. 16.8k successful startups\n",
        "- failed startups were VERY commonly incorrectly predicted as successful\n",
        "----\n",
        "  - 7.17% () failed startups were correctly predicted as failed\n",
        "  - ~90% failed startups were incorrectly predicted - as false positives\n",
        "    - ~1500 false positives, ~500 false negatives\n",
        "    - 3x more false positives -> model is very biased towards successful startups\n",
        "\n",
        "**overall: high false positive rate = biased towards successful startups**"
      ],
      "metadata": {
        "id": "PI8CoENLsTY8"
      }
    },
    {
      "cell_type": "code",
      "source": [
        "# number of\n",
        "y_test_df = pd.DataFrame(y_test) #y_test is originally a series - does not contain columns, only a 'status' label\n",
        "y_test_df.groupby('status')['status'].count()\n",
        "# alt: y_test_df.value_counts() -> counts number of values for each unique category"
      ],
      "metadata": {
        "colab": {
          "base_uri": "https://localhost:8080/",
          "height": 178
        },
        "id": "WdJdlSeVxwyV",
        "outputId": "0a8031ab-f076-4ab0-a9d0-f183eeef956c"
      },
      "execution_count": null,
      "outputs": [
        {
          "output_type": "execute_result",
          "data": {
            "text/plain": [
              "status\n",
              "0     1604\n",
              "1    16820\n",
              "Name: status, dtype: int64"
            ],
            "text/html": [
              "<div>\n",
              "<style scoped>\n",
              "    .dataframe tbody tr th:only-of-type {\n",
              "        vertical-align: middle;\n",
              "    }\n",
              "\n",
              "    .dataframe tbody tr th {\n",
              "        vertical-align: top;\n",
              "    }\n",
              "\n",
              "    .dataframe thead th {\n",
              "        text-align: right;\n",
              "    }\n",
              "</style>\n",
              "<table border=\"1\" class=\"dataframe\">\n",
              "  <thead>\n",
              "    <tr style=\"text-align: right;\">\n",
              "      <th></th>\n",
              "      <th>status</th>\n",
              "    </tr>\n",
              "    <tr>\n",
              "      <th>status</th>\n",
              "      <th></th>\n",
              "    </tr>\n",
              "  </thead>\n",
              "  <tbody>\n",
              "    <tr>\n",
              "      <th>0</th>\n",
              "      <td>1604</td>\n",
              "    </tr>\n",
              "    <tr>\n",
              "      <th>1</th>\n",
              "      <td>16820</td>\n",
              "    </tr>\n",
              "  </tbody>\n",
              "</table>\n",
              "</div><br><label><b>dtype:</b> int64</label>"
            ]
          },
          "metadata": {},
          "execution_count": 56
        }
      ]
    },
    {
      "cell_type": "code",
      "source": [
        "from sklearn.metrics import confusion_matrix, ConfusionMatrixDisplay\n",
        "accuracy_by_class = confusion_matrix(y_test, y_pred)\n",
        "print(\"Confusion Matrix:\")\n",
        "print(accuracy_by_class)"
      ],
      "metadata": {
        "colab": {
          "base_uri": "https://localhost:8080/"
        },
        "id": "U7IHEITupSDk",
        "outputId": "faf36346-23c3-4206-d7c4-ee5794eaf515"
      },
      "execution_count": null,
      "outputs": [
        {
          "output_type": "stream",
          "name": "stdout",
          "text": [
            "Confusion Matrix:\n",
            "[[  115  1489]\n",
            " [  493 16327]]\n"
          ]
        }
      ]
    },
    {
      "cell_type": "code",
      "source": [
        "cm_display = ConfusionMatrixDisplay(accuracy_by_class, display_labels=[\"failed(0)\", \"success(1)\"])\n",
        "cm_display.plot()"
      ],
      "metadata": {
        "colab": {
          "base_uri": "https://localhost:8080/",
          "height": 466
        },
        "id": "-KuzNs-8w3lq",
        "outputId": "5b16c856-aae6-4cfa-87a6-f6cac44b0062"
      },
      "execution_count": null,
      "outputs": [
        {
          "output_type": "execute_result",
          "data": {
            "text/plain": [
              "<sklearn.metrics._plot.confusion_matrix.ConfusionMatrixDisplay at 0x796750c91490>"
            ]
          },
          "metadata": {},
          "execution_count": 65
        },
        {
          "output_type": "display_data",
          "data": {
            "text/plain": [
              "<Figure size 640x480 with 2 Axes>"
            ],
            "image/png": "[encoded data removed]"
          },
          "metadata": {}
        }
      ]
    },
    {
      "cell_type": "markdown",
      "source": [
        "Classification Report Analysis\n",
        "- all metrics are very low for 0 (failed startups) = low correct prediction rate"
      ],
      "metadata": {
        "id": "zO1hg6dcuM24"
      }
    },
    {
      "cell_type": "code",
      "source": [
        "from sklearn.metrics import classification_report\n",
        "clasif_report = classification_report(y_test, y_pred)\n",
        "print(\"Classification Report:\")\n",
        "print(clasif_report)"
      ],
      "metadata": {
        "colab": {
          "base_uri": "https://localhost:8080/"
        },
        "id": "bYdDmjHPi71P",
        "outputId": "64e28960-a040-44fd-d544-3b10ffa0b9f1"
      },
      "execution_count": null,
      "outputs": [
        {
          "output_type": "stream",
          "name": "stdout",
          "text": [
            "Classification Report:\n",
            "              precision    recall  f1-score   support\n",
            "\n",
            "           0       0.19      0.07      0.10      1604\n",
            "           1       0.92      0.97      0.94     16820\n",
            "\n",
            "    accuracy                           0.89     18424\n",
            "   macro avg       0.55      0.52      0.52     18424\n",
            "weighted avg       0.85      0.89      0.87     18424\n",
            "\n"
          ]
        }
      ]
    }
  ]
}